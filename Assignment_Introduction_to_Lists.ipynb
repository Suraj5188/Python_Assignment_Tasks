{
  "nbformat": 4,
  "nbformat_minor": 0,
  "metadata": {
    "kernelspec": {
      "display_name": "Python 3",
      "language": "python",
      "name": "python3"
    },
    "language_info": {
      "codemirror_mode": {
        "name": "ipython",
        "version": 3
      },
      "file_extension": ".py",
      "mimetype": "text/x-python",
      "name": "python",
      "nbconvert_exporter": "python",
      "pygments_lexer": "ipython3",
      "version": "3.7.4"
    },
    "colab": {
      "provenance": [],
      "include_colab_link": true
    }
  },
  "cells": [
    {
      "cell_type": "markdown",
      "metadata": {
        "id": "view-in-github",
        "colab_type": "text"
      },
      "source": [
        "<a href=\"https://colab.research.google.com/github/Suraj5188/Python_Assignment_Tasks/blob/main/Assignment_Introduction_to_Lists.ipynb\" target=\"_parent\"><img src=\"https://colab.research.google.com/assets/colab-badge.svg\" alt=\"Open In Colab\"/></a>"
      ]
    },
    {
      "cell_type": "markdown",
      "metadata": {
        "id": "KB9ZI2xAjkF6"
      },
      "source": [
        "## <u>Problem 1</u>\n",
        "\n",
        "A list contains the average daily temperature(in degree Celsius) of a city over a particular week. Write a Python code to swap the highest and the lowest temperatures"
      ]
    },
    {
      "cell_type": "code",
      "metadata": {
        "id": "O3ZtUcxsjkF7",
        "colab": {
          "base_uri": "https://localhost:8080/"
        },
        "outputId": "3e7123e3-9ff3-4d11-a175-ef06b53bf3f8"
      },
      "source": [
        "# A list containing average daily temperature over a week \n",
        "temperatures = [34, 40, 29, 33, 42, 37, 39 ]\n",
        "\n",
        "#highest temperature\n",
        "max_temp=max(temperatures)\n",
        "\n",
        "#max value index\n",
        "max_temp_index =temperatures.index(max_temp)\n",
        "\n",
        "#lowest temperature\n",
        "min_temp=min(temperatures)\n",
        "\n",
        "#storing min value index\n",
        "min_temp_index=temperatures.index(min_temp)\n",
        "\n",
        "#Now swap the elements using index position\n",
        "temperatures[min_temp_index]=max_temp\n",
        "temperatures[max_temp_index]=min_temp\n",
        "\n",
        "print(temperatures)"
      ],
      "execution_count": 1,
      "outputs": [
        {
          "output_type": "stream",
          "name": "stdout",
          "text": [
            "[34, 40, 42, 33, 29, 37, 39]\n"
          ]
        }
      ]
    },
    {
      "cell_type": "markdown",
      "metadata": {
        "id": "zxqe73yrjkGi"
      },
      "source": [
        "\n",
        "## <u>Problem 2 </u>\n",
        "\n",
        "### Measures of Averages\n",
        "\n",
        "* Mean of a group is defined as the sum of the elements in the group divided by the number of elements in the group.\n",
        "* Median is the middle number in a <b>sorted</b>, ascending or descending, list of numbers. If the list has $N$ numbers where $N$ is odd, then median is the element in the middle i.e, $(\\frac{N+1}{2})^{th}$ element. If $N$ is even, then median is the mean of $(\\frac{N}{2})^{th}$ and $(\\frac{N}{2}+1)^{th}$ elements"
      ]
    },
    {
      "cell_type": "code",
      "source": [
        "# List of product prices\n",
        "prod_price_list = [400, 250, 800, 550, 600, 820, 720, 15000, 360,250]\n",
        "\n",
        "# Calculate the mean of the product prices. Use list functions. Also print the mean_price\n",
        "mean_price = sum(prod_price_list) / len(prod_price_list)\n",
        "print(f\"mean_price :{mean_price}\")\n",
        "\n",
        "#Calculate the median price\n",
        "\n",
        "# Step 1 - Obtain the sorted list. Print the sorted_prices\n",
        "sorted_prices = sorted(prod_price_list)\n",
        "print(f\"sorted_prices :{sorted_prices}\\n\")\n",
        "\n",
        "# Check if the number of elements in the list is even or odd\n",
        "print(f\"the list is even or odd :{len(prod_price_list) %2==0}\\n\")\n",
        "\n",
        "# Use the corresponding formula to calculate the median and print the median\n",
        "\n",
        "#first sorted elements \n",
        "sort_elements=len(sorted_prices)\n",
        "print(f\"sort_elements :{sort_elements}\")\n",
        "\n",
        "median_price = (sorted_prices[int(sort_elements/2)-1]+sorted_prices[int(sort_elements/2)])/2\n",
        "print(f\"Median is: {median_price}\")\n",
        "\n",
        "# Check which is greater, mean or median\n",
        "if(mean_price>median_price):\n",
        "  print(f\"\\nMean is greater\")\n",
        "else:\n",
        "  print(f\"\\nMadian is greater\")"
      ],
      "metadata": {
        "id": "btyFvNX1gr-R",
        "colab": {
          "base_uri": "https://localhost:8080/"
        },
        "outputId": "fb89ae28-506d-4789-89e3-8c281fba9d0a"
      },
      "execution_count": 2,
      "outputs": [
        {
          "output_type": "stream",
          "name": "stdout",
          "text": [
            "mean_price :1975.0\n",
            "sorted_prices :[250, 250, 360, 400, 550, 600, 720, 800, 820, 15000]\n",
            "\n",
            "the list is even or odd :True\n",
            "\n",
            "sort_elements :10\n",
            "Median is: 575.0\n",
            "\n",
            "Mean is greater\n"
          ]
        }
      ]
    },
    {
      "cell_type": "markdown",
      "metadata": {
        "id": "J3x3tmzTjkG3"
      },
      "source": [
        "## <u> Problem 3 </u>\n",
        "\n",
        "Having a nested list sometimes might be a bit problematic. An individual was asked to collect the names of companies in the technology sector. While creating the list, by mistake the last three companies were subsumed in a list as shown below. You are required to get rid of the nesting"
      ]
    },
    {
      "cell_type": "code",
      "metadata": {
        "id": "6IbY26WqjkG4",
        "colab": {
          "base_uri": "https://localhost:8080/"
        },
        "outputId": "5f97bb30-0ccf-4357-9e86-acab4f5c23a7"
      },
      "source": [
        "# The list of tech companies curated by the individual\n",
        "tech_companies = ['Qualcomm','Google','Apple',['Nvidia','Cisco','Samsung']]\n",
        "\n",
        "# The final list that we want\n",
        "# correct_tech_companies = ['Qualcomm','Google','Apple','Nvidia','Cisco','Samsung']\n",
        "\n",
        "# Write your code below\n",
        "remove_element=tech_companies[-1]\n",
        "\n",
        "tech_companies.remove(remove_element)\n",
        "#now add\n",
        "add_element=tech_companies.extend(remove_element)\n",
        "\n",
        "print(tech_companies)"
      ],
      "execution_count": 18,
      "outputs": [
        {
          "output_type": "stream",
          "name": "stdout",
          "text": [
            "['Qualcomm', 'Google', 'Apple', 'Nvidia', 'Cisco', 'Samsung']\n"
          ]
        }
      ]
    },
    {
      "cell_type": "code",
      "source": [
        "# Do the same task another way\n",
        "\n",
        "elements=tech_companies[:3]+remove_element\n",
        "print(tech_companies)"
      ],
      "metadata": {
        "colab": {
          "base_uri": "https://localhost:8080/"
        },
        "id": "ItJX5jHov20a",
        "outputId": "1bf2b5e7-ed58-4c84-f7f2-6554debc95a0"
      },
      "execution_count": 29,
      "outputs": [
        {
          "output_type": "stream",
          "name": "stdout",
          "text": [
            "['Qualcomm', 'Google', 'Apple', 'Nvidia', 'Cisco', 'Samsung']\n"
          ]
        }
      ]
    },
    {
      "cell_type": "code",
      "source": [],
      "metadata": {
        "id": "6536Pucnx6st"
      },
      "execution_count": null,
      "outputs": []
    }
  ]
}