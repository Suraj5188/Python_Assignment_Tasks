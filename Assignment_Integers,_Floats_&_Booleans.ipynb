{
  "nbformat": 4,
  "nbformat_minor": 0,
  "metadata": {
    "colab": {
      "provenance": [],
      "authorship_tag": "ABX9TyPqo22bnh9eTvkGCHTKXbb9",
      "include_colab_link": true
    },
    "kernelspec": {
      "name": "python3",
      "display_name": "Python 3"
    },
    "language_info": {
      "name": "python"
    }
  },
  "cells": [
    {
      "cell_type": "markdown",
      "metadata": {
        "id": "view-in-github",
        "colab_type": "text"
      },
      "source": [
        "<a href=\"https://colab.research.google.com/github/Suraj5188/Python_Assignment_Tasks/blob/main/Assignment_Integers%2C_Floats_%26_Booleans.ipynb\" target=\"_parent\"><img src=\"https://colab.research.google.com/assets/colab-badge.svg\" alt=\"Open In Colab\"/></a>"
      ]
    },
    {
      "cell_type": "markdown",
      "source": [
        "# **Problem 1**\n",
        "\n",
        "\n",
        "In a cricket tournament, based on the outcome of a particular match a team gets following points:<br>\n",
        "\n",
        "*   wins gets 3 points<br>\n",
        "*   draws gets 1 points<br>\n",
        "*   losses gets 0 points<br>\n",
        "\n",
        "Team Aravali plays 8 matches in this tournament. It wins 4 matches, loses 3 matches and draws 1. What is the total number of points gained by the Team Aravali"
      ],
      "metadata": {
        "id": "z7kiZdl6l4XI"
      }
    },
    {
      "cell_type": "code",
      "execution_count": null,
      "metadata": {
        "colab": {
          "base_uri": "https://localhost:8080/"
        },
        "id": "_kydSxwjl2xN",
        "outputId": "d7e7080d-2bb2-4676-9c69-27431d6f9b50"
      },
      "outputs": [
        {
          "output_type": "stream",
          "name": "stdout",
          "text": [
            "13\n"
          ]
        }
      ],
      "source": [
        "# The outcome variables are defined below\n",
        "wins = 4\n",
        "losses = 3\n",
        "draws = 1\n",
        "\n",
        "# Calculate the total points gained by Team Aravali\n",
        "aravali_points = wins*3+losses*0+draws*1\n",
        "\n",
        "print(aravali_points)"
      ]
    },
    {
      "cell_type": "markdown",
      "source": [
        "# **Problem 2<br>**\n",
        "\n",
        "Root of a function f(x) is defined as the value  where f(x)<br\n",
        "\n",
        "\n",
        "Consider a quadratic function f(x)=x<sup>2</sup>+3x-4<br>\n",
        "Find the value of the function f(x) at points  x=2,x=-1,x=1"
      ],
      "metadata": {
        "id": "hwbhcyd1nE2H"
      }
    },
    {
      "cell_type": "code",
      "source": [
        "# Calculate the value of the function f(x) at x = 2\n",
        "x=2\n",
        "func_evaluated_at_2 =x**2+3*x-4 \n",
        "print(f\"func_evaluated_at_2 :{func_evaluated_at_2}\\n\")\n",
        "\n",
        "# Calculate the value of the function f(x) at x = -1\n",
        "y=-1\n",
        "func_evaluated_at_minus1 = y**2+3*y-4 \n",
        "print(f\"func_evaluated_at_minus1 :{func_evaluated_at_minus1}\\n\")\n",
        "\n",
        "# Calculate the value of the function f(x) at x = 1\n",
        "z=1\n",
        "func_evaluated_at_1 = z**2+3*z-4 \n",
        "print(f\"func_evaluated_at_minus-1: {func_evaluated_at_1}\")"
      ],
      "metadata": {
        "colab": {
          "base_uri": "https://localhost:8080/"
        },
        "id": "fFH6u3WUm9zp",
        "outputId": "016210e3-c994-45c0-a343-640c63b37e3d"
      },
      "execution_count": null,
      "outputs": [
        {
          "output_type": "stream",
          "name": "stdout",
          "text": [
            "func_evaluated_at_2 :6\n",
            "\n",
            "func_evaluated_at_minus1 :-6\n",
            "\n",
            "func_evaluated_at_minus-1: 0\n"
          ]
        }
      ]
    },
    {
      "cell_type": "markdown",
      "source": [
        "Return the boolean for each value of  x to find out whether that value is a root of f(x)<br>"
      ],
      "metadata": {
        "id": "XmGAyGeRttnA"
      }
    },
    {
      "cell_type": "code",
      "source": [
        "# Calculate the percentage of apples and print the variable\n",
        "print(func_evaluated_at_2 == 0)\n",
        "\n",
        "print(\"\\n\")\n",
        "\n",
        "print(func_evaluated_at_minus1==0)\n",
        "\n",
        "print(\"\\n\")\n",
        "\n",
        "print(func_evaluated_at_1==0)"
      ],
      "metadata": {
        "colab": {
          "base_uri": "https://localhost:8080/"
        },
        "id": "FDPEtMARqV-P",
        "outputId": "19375214-43fd-4986-debc-c5b51c48faaf"
      },
      "execution_count": null,
      "outputs": [
        {
          "output_type": "stream",
          "name": "stdout",
          "text": [
            "False\n",
            "\n",
            "\n",
            "False\n",
            "\n",
            "\n",
            "True\n"
          ]
        }
      ]
    },
    {
      "cell_type": "markdown",
      "source": [
        "# Problem 3<br>\n",
        "A bag contains 45 apples, 65 oranges and 30 bananas. Find the percentage of each type of food items in the bag"
      ],
      "metadata": {
        "id": "bYNLU4i2wOLn"
      }
    },
    {
      "cell_type": "code",
      "source": [
        "apple=45\n",
        "oranges=65\n",
        "bananas=30\n",
        "\n",
        "sum=apple+oranges+bananas\n",
        "\n",
        "# Calculate the percentage of apples and print the variable\n",
        "percentage_apple=apple/sum * 100\n",
        "print(f\"percentage_apple : {percentage_apple}\")\n",
        "\n",
        "# Calculate the percentage of oranges and print the variable\n",
        "percentage_oranges=oranges/sum *100\n",
        "print(f\"percentage_oranges :{percentage_oranges}\")\n",
        "\n",
        "# Calculate the percentage of bananas and print the variable\n",
        "percentage_bananas=bananas/sum *100\n",
        "print(f\"percentage_bananas: {percentage_bananas}\")"
      ],
      "metadata": {
        "colab": {
          "base_uri": "https://localhost:8080/"
        },
        "id": "ze7_BqwXv-DN",
        "outputId": "b04d61f7-a74c-446f-9399-f7697d7adaed"
      },
      "execution_count": null,
      "outputs": [
        {
          "output_type": "stream",
          "name": "stdout",
          "text": [
            "percentage_apple : 32.142857142857146\n",
            "percentage_oranges :46.42857142857143\n",
            "percentage_bananas: 21.428571428571427\n"
          ]
        }
      ]
    },
    {
      "cell_type": "markdown",
      "source": [
        "# **Problem 4<br>**\n",
        "You were playing a fun guessing game during your school break. There were a total of 100 participants excluding you. Out of these 100 people, 30 were Maths Majors, 45 were Economics Majors and 25 were Physics Majors.\n",
        "<br>\n",
        "The game was divided into three rounds.\n",
        "<br>\n",
        "\n",
        "* In the first round, you had to guess the number of Maths\n",
        "Majors and you correctly guessed 20 of them.<br>\n",
        "* In the second round, you had to guess the number of Economics Majors and you correctly guessed 30 of them.<br>\n",
        "* In the final third round, you had to guess the number of Physics Majors and you correctly guessed 20 of them"
      ],
      "metadata": {
        "id": "rvWcq4a7xufZ"
      }
    },
    {
      "cell_type": "code",
      "source": [],
      "metadata": {
        "id": "FrkiKJIEzFzI"
      },
      "execution_count": null,
      "outputs": []
    },
    {
      "cell_type": "code",
      "source": [
        "# Store the number of Maths majors\n",
        "maths_major=30\n",
        "\n",
        "# Store the number of Economics majors\n",
        "Economics_majors=45\n",
        "\n",
        "# Store the number of Physics majors\n",
        "Physics_majors=25\n",
        "\n",
        "# Store the number of your correct guesses of Maths majors\n",
        "guesses_maths=20\n",
        "\n",
        "# Store the number of your correct guesses of Economics majors\n",
        "guesses_Economics=30\n",
        "\n",
        "# Store the number of your correct guesses of Physics majors\n",
        "guesses_Physics=20\n",
        "\n",
        "#Calculate your accuracy in each of the three rounds\n",
        "\n",
        "# Print the Maths accuracy\n",
        "print(f\"Maths accuracy :{guesses_maths/maths_major  * 100}\\n\")\n",
        "\n",
        "# Print the Economics accuracy\n",
        "print(f\"Economics accuracy :{guesses_Economics/Economics_majors * 100}\\n\")\n",
        "\n",
        "# Print the Physics accuracy\n",
        "print(f\"Physics accuracy: {guesses_Physics/Physics_majors *100}\\n\")\n",
        "\n",
        "#Calculate your overall accuracy in the entire game\n",
        "print(f\"overall accuracy in the entire game :{(guesses_maths+guesses_Economics+guesses_Physics)/(maths_major+Economics_majors+Physics_majors) *100}\")"
      ],
      "metadata": {
        "colab": {
          "base_uri": "https://localhost:8080/"
        },
        "id": "knwy7CNbxT2-",
        "outputId": "b4ccb863-1d8c-4953-e660-a52421d4d28a"
      },
      "execution_count": null,
      "outputs": [
        {
          "output_type": "stream",
          "name": "stdout",
          "text": [
            "Maths accuracy :66.66666666666666\n",
            "\n",
            "Economics accuracy :66.66666666666666\n",
            "\n",
            "Physics accuracy: 80.0\n",
            "\n",
            "overall accuracy in the entire game :70.0\n"
          ]
        }
      ]
    }
  ]
}