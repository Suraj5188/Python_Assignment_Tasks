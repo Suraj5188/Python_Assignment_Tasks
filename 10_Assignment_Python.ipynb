{
  "nbformat": 4,
  "nbformat_minor": 0,
  "metadata": {
    "colab": {
      "provenance": [],
      "authorship_tag": "ABX9TyN3kzWHnvZBahS0ckBLDkVZ",
      "include_colab_link": true
    },
    "kernelspec": {
      "name": "python3",
      "display_name": "Python 3"
    },
    "language_info": {
      "name": "python"
    }
  },
  "cells": [
    {
      "cell_type": "markdown",
      "metadata": {
        "id": "view-in-github",
        "colab_type": "text"
      },
      "source": [
        "<a href=\"https://colab.research.google.com/github/Suraj5188/Python_Assignment_Tasks/blob/main/10_Assignment_Python.ipynb\" target=\"_parent\"><img src=\"https://colab.research.google.com/assets/colab-badge.svg\" alt=\"Open In Colab\"/></a>"
      ]
    },
    {
      "cell_type": "markdown",
      "source": [
        "# Assignment_Python"
      ],
      "metadata": {
        "id": "JHwFn_h1NCa-"
      }
    },
    {
      "cell_type": "markdown",
      "source": [
        "**1. What is a List?**\n",
        "\n",
        "  1. List is mutable\n",
        "  2. In list we store the elements in square braces\n",
        "  3. We can modify the list like we can add,update,delete elements in list\n",
        "  4. In list we can access the element through index\n",
        "  5. In list we can also use nested list\n",
        "  6. In list we store the different data types of element \n",
        "  7. Example- list1=[1,2,'Suraj',[10,20,30],70] "
      ],
      "metadata": {
        "id": "tON6ThtfNMVw"
      }
    },
    {
      "cell_type": "markdown",
      "source": [
        "**2. What is a Tuple?**\n",
        "\n",
        "  1. Tuple is immutable\n",
        "  2. In tuple we store the elements in parasenthesis\n",
        "  3. In tuple we can't modified the list\n",
        "  4. We can access element in tuple through index\n",
        "  5. If we don't want to change the element then we can use tuple\n",
        "  6. Example- t1=(20,30,40) "
      ],
      "metadata": {
        "id": "XAE0nLTiPaHY"
      }
    },
    {
      "cell_type": "markdown",
      "source": [
        "**3 .What is the difference between List and Tuple?**\n",
        "\n",
        "  **List :**\n",
        "  1. List is mutable\n",
        "  2. In list we store the elements in square braces\n",
        "  3. We can modify the list like we can add,update,delete elements in list\n",
        "  4. In list we can access the element through index\n",
        "  5. In list we can also use nested list\n",
        "  6. In list we store the different data types of element\n",
        "  7. Example- list1=[1,2,'Suraj',[10,20,30],70]\n",
        "\n",
        "**Tuple :**\n",
        "\n",
        "1. Tuple is immutable\n",
        "2. In tuple we store the elements in parasenthesis\n",
        "3. In tuple we can't modified the list\n",
        "4. We can access element in tuple through index\n",
        "5. If we don't want to change the element then we can use tuple\n",
        "6. Example- t1=(20,30,40)"
      ],
      "metadata": {
        "id": "b2J6XeAeQfBk"
      }
    },
    {
      "cell_type": "markdown",
      "source": [
        "**4. Python Program to find the largest element in the list**"
      ],
      "metadata": {
        "id": "LTqie7g2RK2J"
      }
    },
    {
      "cell_type": "code",
      "execution_count": 2,
      "metadata": {
        "colab": {
          "base_uri": "https://localhost:8080/"
        },
        "id": "KiHSX8RhL6ae",
        "outputId": "2487ed0e-8a4c-4e11-88c5-fec55527e9b9"
      },
      "outputs": [
        {
          "output_type": "stream",
          "name": "stdout",
          "text": [
            "Maximum Element : 250\n"
          ]
        }
      ],
      "source": [
        "# Python Program to find the largest element in the list\n",
        "\n",
        "list1=[10,20,100,250,50]\n",
        "\n",
        "max_element=max(list1)\n",
        "print('Maximum Element : {}'.format(max_element))"
      ]
    },
    {
      "cell_type": "markdown",
      "source": [
        "**5. Python program to interchange first and last elements in a list.**"
      ],
      "metadata": {
        "id": "3N-8yIgaSCgY"
      }
    },
    {
      "cell_type": "code",
      "source": [
        "# Python program to interchange first and last elements in a list.\n",
        "\n",
        "list2=[10,20,100,250,50]\n",
        "print('Before interchaning element {}'.format(list2))\n",
        "list2[0],list2[-1]=list2[-1],list2[0]\n",
        "\n",
        "\n",
        "print('After interchange the elements {}'.format(list2))"
      ],
      "metadata": {
        "colab": {
          "base_uri": "https://localhost:8080/"
        },
        "id": "2GenZ5H3RtQE",
        "outputId": "b3a16390-673f-4ae2-dd1c-04b4560a5f1c"
      },
      "execution_count": 7,
      "outputs": [
        {
          "output_type": "stream",
          "name": "stdout",
          "text": [
            "Before interchaning element [10, 20, 100, 250, 50]\n",
            "After interchange the elements [50, 20, 100, 250, 10]\n"
          ]
        }
      ]
    },
    {
      "cell_type": "markdown",
      "source": [
        "**6. Python program to swap two elements in a list**"
      ],
      "metadata": {
        "id": "cky8xlXWTUUp"
      }
    },
    {
      "cell_type": "code",
      "source": [
        "# Python program to swap two elements in a list\n",
        "\n",
        "# Creating a function that accept two parameter as a position\n",
        "\n",
        "def fun(pos1,pos2):\n",
        "  list3=[20,30,40,50]\n",
        "\n",
        "  print(\"Before Swapping the list {}\".format(list3))\n",
        "\n",
        "  list3[pos1],list3[pos2]=list3[pos2],list3[pos1]\n",
        "\n",
        "\n",
        "  return print(\"Before Swapping the list {}\".format(list3))\n",
        "\n",
        "fun(1,3)"
      ],
      "metadata": {
        "colab": {
          "base_uri": "https://localhost:8080/"
        },
        "id": "fwLNOr2pSagh",
        "outputId": "ba0a44de-0787-46a5-9633-863d59d95a0a"
      },
      "execution_count": 8,
      "outputs": [
        {
          "output_type": "stream",
          "name": "stdout",
          "text": [
            "Before Swapping the list [20, 30, 40, 50]\n",
            "Before Swapping the list [20, 50, 40, 30]\n"
          ]
        }
      ]
    },
    {
      "cell_type": "markdown",
      "source": [
        "**7 .Python program to Reverse a List**"
      ],
      "metadata": {
        "id": "-IRC4MhpU9x0"
      }
    },
    {
      "cell_type": "code",
      "source": [
        "# Python program to Reverse a List\n",
        "\n",
        "list4=[10,20,30,40,50,60]\n",
        "\n",
        "print('Before Reverse a List {}'.format(list4))\n",
        "\n",
        "print('After Reverse a List {}'.format(list(reversed(list4))))"
      ],
      "metadata": {
        "colab": {
          "base_uri": "https://localhost:8080/"
        },
        "id": "VImnfOmmU3HS",
        "outputId": "1f566180-39f4-4992-97e3-1035a1364500"
      },
      "execution_count": 15,
      "outputs": [
        {
          "output_type": "stream",
          "name": "stdout",
          "text": [
            "Before Reverse a List [10, 20, 30, 40, 50, 60]\n",
            "After Reverse a List [60, 50, 40, 30, 20, 10]\n"
          ]
        }
      ]
    },
    {
      "cell_type": "markdown",
      "source": [
        "**8.Python program to count occurrences of an element in a list**"
      ],
      "metadata": {
        "id": "tKaiCglbaoCF"
      }
    },
    {
      "cell_type": "code",
      "source": [
        "list5=[10,20,30,20,20,30,40,20]\n",
        "\n",
        "print('Count of element 20 in list is: {}'.format(list5.count(20)))"
      ],
      "metadata": {
        "colab": {
          "base_uri": "https://localhost:8080/"
        },
        "id": "oTa7uwMGVpyq",
        "outputId": "2c68fcbb-e7e1-42cd-b1fc-897f97beb140"
      },
      "execution_count": 19,
      "outputs": [
        {
          "output_type": "stream",
          "name": "stdout",
          "text": [
            "Count of element 20 in list is: 4\n"
          ]
        }
      ]
    },
    {
      "cell_type": "markdown",
      "source": [
        "**9.Python program to find the sum of elements in a list**"
      ],
      "metadata": {
        "id": "e19j6jF6bXZZ"
      }
    },
    {
      "cell_type": "code",
      "source": [
        "sum=0\n",
        "for i in range(0,len(list5)):\n",
        "  sum=sum+list5[i]\n",
        "\n",
        "print('Sum of given element {}'.format(sum))"
      ],
      "metadata": {
        "colab": {
          "base_uri": "https://localhost:8080/"
        },
        "id": "UiNCPHq4a5Lp",
        "outputId": "99a8dc0d-341a-4d9a-95c4-c56a712279e0"
      },
      "execution_count": 24,
      "outputs": [
        {
          "output_type": "stream",
          "name": "stdout",
          "text": [
            "Sum of given element 190\n"
          ]
        }
      ]
    },
    {
      "cell_type": "markdown",
      "source": [
        "**10. Python program to Multiply all numbers in the list**"
      ],
      "metadata": {
        "id": "qyJj9q_Xcmru"
      }
    },
    {
      "cell_type": "code",
      "source": [
        "# Python program to Multiply all numbers in the list\n",
        "mul=1\n",
        "for i in list5:\n",
        "  mul=mul*i\n",
        "\n",
        "print('Product of elements in list {}'.format(mul))"
      ],
      "metadata": {
        "colab": {
          "base_uri": "https://localhost:8080/"
        },
        "id": "C6jYQiuGbpRr",
        "outputId": "ec9b9304-fc1d-4333-b2a1-89347bea73bd"
      },
      "execution_count": 30,
      "outputs": [
        {
          "output_type": "stream",
          "name": "stdout",
          "text": [
            "Product of elements in list 57600000000\n"
          ]
        }
      ]
    },
    {
      "cell_type": "markdown",
      "source": [
        "**11. What are the ways to find the length of a list**\n",
        "\n",
        "1st way : Using 'len()' methood\n",
        "\n",
        "2nd way :  Using 'length_hint()' methood"
      ],
      "metadata": {
        "id": "4ILRyUyud5TM"
      }
    },
    {
      "cell_type": "markdown",
      "source": [
        "**12. Python program to find the smallest and largest number in a list (Without\n",
        "min-max function)**"
      ],
      "metadata": {
        "id": "VAQ4eyvCebjG"
      }
    },
    {
      "cell_type": "code",
      "source": [
        "# Python program to find the smallest and largest number in a list (Withoutmin-max function)\n"
      ],
      "metadata": {
        "id": "PpJml_FDdO2J"
      },
      "execution_count": null,
      "outputs": []
    },
    {
      "cell_type": "markdown",
      "source": [
        "**13. Python Program to find the area of a circle**"
      ],
      "metadata": {
        "id": "rL_4apT6fE0y"
      }
    },
    {
      "cell_type": "code",
      "source": [
        "# Python Program to find the area of a circle\n",
        "\n",
        "import math\n",
        "\n",
        "r=2\n",
        "area_of_circle=math.pi*r*r\n",
        "\n",
        "print('Area Of Circle {}'.format(area_of_circle))"
      ],
      "metadata": {
        "colab": {
          "base_uri": "https://localhost:8080/"
        },
        "id": "CNCTZeG5ehMb",
        "outputId": "8d42c24d-7945-4240-8506-6bc71ab139da"
      },
      "execution_count": 34,
      "outputs": [
        {
          "output_type": "stream",
          "name": "stdout",
          "text": [
            "Area Of Circle 12.566370614359172\n"
          ]
        }
      ]
    },
    {
      "cell_type": "markdown",
      "source": [
        "**14. Take inputs from the user to make a list. Again take one input from the user and search it in the list and delete that element, if found. Iterate over a list using for loop.**"
      ],
      "metadata": {
        "id": "tdZFRkMdfouG"
      }
    },
    {
      "cell_type": "code",
      "source": [
        "# Take inputs from the user to make a list. Again take one input from the user and search it in the list and delete that element, if found. Iterate over a list using for loop\n",
        "\n",
        "list6=[]\n",
        "\n",
        "user=int(input('Enter How many Element You Want To Store:'))\n",
        "\n",
        "for i in range(0,user):\n",
        "  num=int(input('Enter Elements :'))\n",
        "\n",
        "  list6.append(num)\n",
        "\n",
        "print('Your list {}'.format(list6))\n",
        "\n",
        "\n",
        "element=int(input('Enter Element'))\n",
        "\n",
        "num2=0\n",
        "for i in list6:\n",
        "    if(i==element2):\n",
        "      list6.pop(num2)\n",
        "      num=num-num2\n",
        "      num2=num2-1\n",
        "    num2=num2+1\n",
        "\n",
        "print(\"After removing element {}\".format(list6))"
      ],
      "metadata": {
        "colab": {
          "base_uri": "https://localhost:8080/"
        },
        "id": "sa2iQqfLfXoi",
        "outputId": "2e8d012f-941d-418b-a35f-101735e2ae50"
      },
      "execution_count": 57,
      "outputs": [
        {
          "output_type": "stream",
          "name": "stdout",
          "text": [
            "Enter How many Element You Want To Store:2\n",
            "Enter Elements :1\n",
            "Enter Elements :2\n",
            "Your list [1, 2]\n",
            "Enter Element2\n",
            "After removing element [1]\n"
          ]
        }
      ]
    },
    {
      "cell_type": "markdown",
      "source": [
        "**15. You are given a list of integer elements. Make a new list that will store a square of elements of the previous list. (With and without list comprehension)**\n",
        "\n",
        "i. Input_list = [2,5,6,12]\n",
        "\n",
        "ii. Output_list = [4,25,36,144]"
      ],
      "metadata": {
        "id": "Fh-N-NUbjv7v"
      }
    },
    {
      "cell_type": "code",
      "source": [
        "input_list = [2,5,6,12]\n",
        "\n",
        "using_list_comphression=[i**2 for i in input_list]\n",
        "\n",
        "print('using_list_comphression {}'.format(using_list_comphression))\n",
        "\n",
        "def square(input_list):\n",
        "    return [i ** 2 for i in input_list]\n",
        "\n",
        "print('without list comprehension {}'.format(square(input_list)))"
      ],
      "metadata": {
        "colab": {
          "base_uri": "https://localhost:8080/"
        },
        "id": "O7-swt-vhCfb",
        "outputId": "3dfcb480-1348-42b8-e82f-fba3b2594df0"
      },
      "execution_count": 51,
      "outputs": [
        {
          "output_type": "stream",
          "name": "stdout",
          "text": [
            "using_list_comphression [4, 25, 36, 144]\n",
            "without list comprehension [4, 25, 36, 144]\n"
          ]
        }
      ]
    },
    {
      "cell_type": "code",
      "source": [],
      "metadata": {
        "id": "rZ6wMKAdkP_i"
      },
      "execution_count": null,
      "outputs": []
    }
  ]
}