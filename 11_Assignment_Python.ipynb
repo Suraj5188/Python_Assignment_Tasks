{
  "nbformat": 4,
  "nbformat_minor": 0,
  "metadata": {
    "colab": {
      "provenance": [],
      "authorship_tag": "ABX9TyOAy/BD3y7bQqNw/TQKW8YP",
      "include_colab_link": true
    },
    "kernelspec": {
      "name": "python3",
      "display_name": "Python 3"
    },
    "language_info": {
      "name": "python"
    }
  },
  "cells": [
    {
      "cell_type": "markdown",
      "metadata": {
        "id": "view-in-github",
        "colab_type": "text"
      },
      "source": [
        "<a href=\"https://colab.research.google.com/github/Suraj5188/Python_Assignment_Tasks/blob/main/11_Assignment_Python.ipynb\" target=\"_parent\"><img src=\"https://colab.research.google.com/assets/colab-badge.svg\" alt=\"Open In Colab\"/></a>"
      ]
    },
    {
      "cell_type": "markdown",
      "source": [
        "**1 .What’s The Difference Between The Python append() and extend() Methods?**"
      ],
      "metadata": {
        "id": "GNSUaGyfoed7"
      }
    },
    {
      "cell_type": "markdown",
      "source": [
        "**append():**\n",
        "1. From append methood we can add the element in list\n",
        "2. In append we can't add more than one element in python\n",
        "3. From append methood we can add different data types elements\n",
        "4. Extend methood add the elements add elements at the end of list\n",
        "5. For example-\n",
        "  \n",
        "  list1=[]\n",
        "\n",
        "  list1.append(10)\n",
        "  list2.append(20)\n",
        "  list3.append(30)\n",
        "\n",
        "**extend():**\n",
        "\n",
        "  1. From extend methood we can add the element in list\n",
        "  2. extend methood allows us to add more than one element\n",
        "  3. From append methood we can add different data types elements\n",
        "  4. Extend methood add the elements add elements at the end of list\n",
        "  5. For example-\n",
        "\n",
        "  list1=[ ]\n",
        "\n",
        "  list1.extend('Suraj','Om',[10,20,30])"
      ],
      "metadata": {
        "id": "n0sfOfAApqXm"
      }
    },
    {
      "cell_type": "markdown",
      "source": [
        "**2. Write a Python program to append a list to the second list**"
      ],
      "metadata": {
        "id": "_APvUBHKrZ2x"
      }
    },
    {
      "cell_type": "code",
      "execution_count": 1,
      "metadata": {
        "colab": {
          "base_uri": "https://localhost:8080/"
        },
        "id": "w97KbCWIng5t",
        "outputId": "afb56352-7440-4921-fe98-1df30ca768de"
      },
      "outputs": [
        {
          "output_type": "stream",
          "name": "stdout",
          "text": [
            "list1 before add : [10, 20]\n",
            "After adding list2 in list1 is : [10, 20, 30, 40, 50, 60]\n",
            "list2 is : [30, 40, 50, 60]\n"
          ]
        }
      ],
      "source": [
        "list1=[10,20]\n",
        "list2=[30,40,50,60]\n",
        "\n",
        "print('list1 before add : {}'.format(list1))\n",
        "\n",
        "list1.extend(list2)\n",
        "\n",
        "print('After adding list2 in list1 is : {}'.format(list1))\n",
        "print('list2 is : {}'.format(list2))"
      ]
    },
    {
      "cell_type": "markdown",
      "source": [
        "**3. Write a Python program to find the third-largest number in a list**"
      ],
      "metadata": {
        "id": "SVh6L59bryK9"
      }
    },
    {
      "cell_type": "code",
      "source": [
        "list3=[150,175,180,190]\n",
        "\n",
        "list"
      ],
      "metadata": {
        "id": "LdJODJDFruPD",
        "colab": {
          "base_uri": "https://localhost:8080/"
        },
        "outputId": "75566438-fe87-4c76-fcec-f0d14e5ff21f"
      },
      "execution_count": 2,
      "outputs": [
        {
          "output_type": "execute_result",
          "data": {
            "text/plain": [
              "list"
            ]
          },
          "metadata": {},
          "execution_count": 2
        }
      ]
    },
    {
      "cell_type": "markdown",
      "source": [
        "**4. Write a Python program to get the frequency of the elements in a list**"
      ],
      "metadata": {
        "id": "1yX3NVuwwsJH"
      }
    },
    {
      "cell_type": "code",
      "source": [
        "import collections\n",
        "\n",
        "list1=[100,270,300,160,879,100,100]\n",
        "\n",
        "results=collections.Counter(list1)\n",
        "\n",
        "print('frequency of the elements in a list {}'.format(results))"
      ],
      "metadata": {
        "colab": {
          "base_uri": "https://localhost:8080/"
        },
        "id": "SxT1xAcRw1N8",
        "outputId": "f8ffd17a-d2f4-46d7-c868-815dbef628dd"
      },
      "execution_count": 15,
      "outputs": [
        {
          "output_type": "stream",
          "name": "stdout",
          "text": [
            "frequency of the elements in a list Counter({100: 3, 270: 1, 300: 1, 160: 1, 879: 1})\n"
          ]
        }
      ]
    },
    {
      "cell_type": "markdown",
      "source": [
        "**5. Write a Python program to check whether a list contains a sublist**"
      ],
      "metadata": {
        "id": "hK_Jy6Q0xbJN"
      }
    },
    {
      "cell_type": "code",
      "source": [
        "list5=[100,270,300,160,879,100,100,['Suraj','Om','Kiran']]\n",
        "for i in list5:\n",
        "  \n",
        "  if len(i) > 1:\n",
        "    print(\"Sublist presnt\")\n",
        "    break\n",
        "\n",
        "else:\n",
        "  print(\"Sublist is not presnt\")"
      ],
      "metadata": {
        "id": "8zcwMWO_xe-R"
      },
      "execution_count": null,
      "outputs": []
    },
    {
      "cell_type": "markdown",
      "source": [
        "**6.Write a Python program to generate all sublists of a list**"
      ],
      "metadata": {
        "id": "9KgYfxWEyCFX"
      }
    },
    {
      "cell_type": "code",
      "source": [
        "list6=[100,270,[300,'DS','ML','DL'],160,879,100,100,['Suraj','Om','Kiran']]\n",
        "counter = 0\n",
        "\n",
        "for i in list6:\n",
        "    \n",
        "    if len(i)>1:\n",
        "        counter+=1\n",
        "        print(f\"{counter} sublist of list:\",i)\n",
        "        print()\n",
        "    \n",
        "    else:\n",
        "      continue"
      ],
      "metadata": {
        "colab": {
          "base_uri": "https://localhost:8080/",
          "height": 235
        },
        "id": "FDXl0vnryOg2",
        "outputId": "6e473bcb-4445-4792-d055-9b9f7eb41446"
      },
      "execution_count": 13,
      "outputs": [
        {
          "output_type": "error",
          "ename": "TypeError",
          "evalue": "ignored",
          "traceback": [
            "\u001b[0;31m---------------------------------------------------------------------------\u001b[0m",
            "\u001b[0;31mTypeError\u001b[0m                                 Traceback (most recent call last)",
            "\u001b[0;32m<ipython-input-13-1e7b2d417663>\u001b[0m in \u001b[0;36m<module>\u001b[0;34m\u001b[0m\n\u001b[1;32m      4\u001b[0m \u001b[0;32mfor\u001b[0m \u001b[0mi\u001b[0m \u001b[0;32min\u001b[0m \u001b[0mlist6\u001b[0m\u001b[0;34m:\u001b[0m\u001b[0;34m\u001b[0m\u001b[0;34m\u001b[0m\u001b[0m\n\u001b[1;32m      5\u001b[0m \u001b[0;34m\u001b[0m\u001b[0m\n\u001b[0;32m----> 6\u001b[0;31m     \u001b[0;32mif\u001b[0m \u001b[0mlen\u001b[0m\u001b[0;34m(\u001b[0m\u001b[0mi\u001b[0m\u001b[0;34m)\u001b[0m\u001b[0;34m>\u001b[0m\u001b[0;36m1\u001b[0m\u001b[0;34m:\u001b[0m\u001b[0;34m\u001b[0m\u001b[0;34m\u001b[0m\u001b[0m\n\u001b[0m\u001b[1;32m      7\u001b[0m         \u001b[0mcounter\u001b[0m\u001b[0;34m+=\u001b[0m\u001b[0;36m1\u001b[0m\u001b[0;34m\u001b[0m\u001b[0;34m\u001b[0m\u001b[0m\n\u001b[1;32m      8\u001b[0m         \u001b[0mprint\u001b[0m\u001b[0;34m(\u001b[0m\u001b[0;34mf\"{counter} sublist of list:\"\u001b[0m\u001b[0;34m,\u001b[0m\u001b[0mi\u001b[0m\u001b[0;34m)\u001b[0m\u001b[0;34m\u001b[0m\u001b[0;34m\u001b[0m\u001b[0m\n",
            "\u001b[0;31mTypeError\u001b[0m: object of type 'int' has no len()"
          ]
        }
      ]
    },
    {
      "cell_type": "markdown",
      "source": [
        "**7. Write a Python program to find common items from two lists**"
      ],
      "metadata": {
        "id": "17-tI_qay_tC"
      }
    },
    {
      "cell_type": "code",
      "source": [
        "list14=['Suraj','Om','Kiran']\n",
        "list24=['DS','ML','DL','Suraj','Om','Kiran']\n",
        "\n",
        "print(set(list14) & set(list24))"
      ],
      "metadata": {
        "colab": {
          "base_uri": "https://localhost:8080/"
        },
        "id": "SCTMKoZ-zCbn",
        "outputId": "c8165090-5ab3-484c-fe8c-40440392940e"
      },
      "execution_count": 12,
      "outputs": [
        {
          "output_type": "stream",
          "name": "stdout",
          "text": [
            "{'Om', 'Suraj', 'Kiran'}\n"
          ]
        }
      ]
    },
    {
      "cell_type": "markdown",
      "source": [
        "**8. How to flatten a list in python?**"
      ],
      "metadata": {
        "id": "cU3fxBxLzsqF"
      }
    },
    {
      "cell_type": "code",
      "source": [
        "list=[[300,'DS','ML','DL'],['Suraj','Om','Kiran']]\n",
        "flatten_list = []\n",
        "for i in list:\n",
        "  for j in i:\n",
        "      flatten_list.append(j)\n",
        "print(\"flatten list is {}\".format(flatten_list))"
      ],
      "metadata": {
        "colab": {
          "base_uri": "https://localhost:8080/"
        },
        "id": "D9NUcABIzxnO",
        "outputId": "62c8faab-44f3-4edc-e5e1-779d02113c2a"
      },
      "execution_count": 11,
      "outputs": [
        {
          "output_type": "stream",
          "name": "stdout",
          "text": [
            "flatten list is [300, 'DS', 'ML', 'DL', 'Suraj', 'Om', 'Kiran']\n"
          ]
        }
      ]
    },
    {
      "cell_type": "markdown",
      "source": [
        "**9. How to sort a list in ascending and descending order without using the sort function?**"
      ],
      "metadata": {
        "id": "mlGiAExv0NJC"
      }
    },
    {
      "cell_type": "code",
      "source": [
        "list=[]\n",
        "\n",
        "number=int(input(\"Please enter the total number of list elements:\"))\n",
        "for i in range(1,number+1):\n",
        "  value=int(input(\"Please enter the value of %d element :\"%i))\n",
        "  list.append(value)\n",
        "\n",
        "for i in range(number):\n",
        "  for j in range(i+1,number):\n",
        "    if(list[i]>list[j]):\n",
        "      temp=list[i]\n",
        "      list[i]=list[j]\n",
        "      list[j]=temp\n",
        "print(\"Element after sorting list in ascending order is {}\".format(list))"
      ],
      "metadata": {
        "colab": {
          "base_uri": "https://localhost:8080/"
        },
        "id": "JOUrTEbp0QgX",
        "outputId": "a5e968dd-f4fa-4fea-bc57-dfc3c50ee252"
      },
      "execution_count": 10,
      "outputs": [
        {
          "output_type": "stream",
          "name": "stdout",
          "text": [
            "Please enter the total number of list elements:2\n",
            "Please enter the value of 1 element :20\n",
            "Please enter the value of 2 element :90\n",
            "Element after sorting list in ascending order is [20, 90]\n"
          ]
        }
      ]
    },
    {
      "cell_type": "markdown",
      "source": [
        "**10. How to sort a tuple?**"
      ],
      "metadata": {
        "id": "HxhSe_qw07Fh"
      }
    },
    {
      "cell_type": "code",
      "source": [
        "tuple1= (160,879,100,100)  \n",
        "rs = tuple(sorted(tuple1))  \n",
        "print('sorted tuple {}'.format(rs))  "
      ],
      "metadata": {
        "colab": {
          "base_uri": "https://localhost:8080/"
        },
        "id": "OigfnbY81B6W",
        "outputId": "323f8202-2de3-4fff-bba1-d0b8dc313ab5"
      },
      "execution_count": 9,
      "outputs": [
        {
          "output_type": "stream",
          "name": "stdout",
          "text": [
            "sorted tuple (100, 100, 160, 879)\n"
          ]
        }
      ]
    },
    {
      "cell_type": "markdown",
      "source": [
        "**11.Difference between del and clear?**"
      ],
      "metadata": {
        "id": "F5zJkqn6tmQc"
      }
    },
    {
      "cell_type": "markdown",
      "source": [
        "**del :**\n",
        "  \n",
        "  1. del is used remove the particular elements from dictionary\n",
        "  2. del keyword is used to remove the dictionary\n",
        "  3. For Example-\n",
        "      1. del dict['name] \n",
        "      2. del dict\n",
        "\n",
        "**clear:**\n",
        "  1. clear is used to remove all the elements from the dictionary\n",
        "  2. clear is used for delete elements not remove dictionary\n",
        "  3. For Example -\n",
        "    1. dict.clear()"
      ],
      "metadata": {
        "id": "2zRfo1v3ttBl"
      }
    },
    {
      "cell_type": "markdown",
      "source": [
        "**12. Difference between remove and pop?**\n",
        "\n",
        "**remove():**\n",
        "  1. remove() is a keyword or built in function\n",
        "  2. remove is used to remove value from list\n",
        "  3. remove doesn't return any value\n",
        "  4. If value is not present then it will throw error value error\n",
        "\n",
        "**pop():**\n",
        "\n",
        "  1. pop() is a keyword or built in function\n",
        "  2. pop is used to remove elements\n",
        "  3. pop return value that should be deleted\n",
        "  4. If index is not present then it will throw index error "
      ],
      "metadata": {
        "id": "-Bt717VOvyUe"
      }
    },
    {
      "cell_type": "markdown",
      "source": [
        "**13. Difference between indexing and Slicing?**"
      ],
      "metadata": {
        "id": "P-rk4Hglxshp"
      }
    },
    {
      "cell_type": "markdown",
      "source": [
        "**index -**\n",
        "\n",
        "1. Index return only one element\n",
        "2. If we try to access index that are not avilable then it will throw error as a indexerror\n",
        "3. We can assign single element\n",
        "\n",
        "**Slicing -**\n",
        "\n",
        "1. In slicing we get list or tuple elements\n",
        "2. If we assign index for slicing that are not avilable then they automatically handled it\n",
        "3. We cannot assign single element we have to specify colon"
      ],
      "metadata": {
        "id": "rspNMSbdpB59"
      }
    },
    {
      "cell_type": "markdown",
      "source": [
        "**14. Difference between sort and sorted?**"
      ],
      "metadata": {
        "id": "PJ0xGJgzqWHi"
      }
    },
    {
      "cell_type": "markdown",
      "source": [
        "**sort -**\n",
        "\n",
        "1. The sort function use only list\n",
        "2. It sorts the original sequence \n",
        "3. It takes 2 parameter keys & reverse\n",
        "\n",
        "**Sorted -**\n",
        "\n",
        "1. The sorted function works on both sequence & collection\n",
        "2. It created sorted copy of python object\n",
        "3. It takes 3 parameter iterable,key & reverse"
      ],
      "metadata": {
        "id": "iJeky02wqZXr"
      }
    },
    {
      "cell_type": "markdown",
      "source": [
        "**15. Difference between reverse and reversed?** "
      ],
      "metadata": {
        "id": "fIY4CobhryM4"
      }
    },
    {
      "cell_type": "markdown",
      "source": [
        "**reverse :**\n",
        "\n",
        "1. reverse is used for list only\n",
        "2. reverse function return the elements in reverse sequence\n",
        "3. reverse operates the original list\n",
        "4. reverse dosen't take any argument \n",
        "\n",
        "**reversed :**\n",
        "\n",
        "1. reversed is used on lists,tuple,string & dictionaries\n",
        "2. It  return the iterable object in reverse order\n",
        "3. It operates the original list for reverse but original elements remains the same\n",
        "4. reversed take iterable object"
      ],
      "metadata": {
        "id": "lUqCyGmUr1A8"
      }
    },
    {
      "cell_type": "markdown",
      "source": [
        "**16. Difference between shallow copy and deep copy?**\n",
        "\n",
        "**shallow copy :**\n",
        "\n",
        "1. shallow copy is faster\n",
        "2. shallow copy stores the refernces of an object to the original memory address\n",
        "3. It reflects the changes made in copied object to original object\n",
        "4. Both copied & original object point to the same memory location\n",
        "\n",
        "**Deep copy :**\n",
        "\n",
        "1. Deep copy is slower as comapred to the shallow copy\n",
        "2. deep copy stores the only object values \n",
        "3. In deep copy the changes dosen't reflects on original object\n",
        "4. In Both copied & original object point to the same memory location"
      ],
      "metadata": {
        "id": "P1tnNXSWs-iG"
      }
    },
    {
      "cell_type": "markdown",
      "source": [
        "**17.  How to check whether the list is empty or not?**"
      ],
      "metadata": {
        "id": "1XDPQ2oZuuO5"
      }
    },
    {
      "cell_type": "code",
      "source": [
        "# Creating an empty list\n",
        "list1=[]\n",
        "\n",
        "if  not list1:\n",
        "  print('List Is Empty')\n",
        "else:\n",
        "  print('List Is Not Empty')"
      ],
      "metadata": {
        "id": "5yD89rJ8trDq",
        "colab": {
          "base_uri": "https://localhost:8080/"
        },
        "outputId": "d289bf07-09f3-46eb-b359-a93c68abdc66"
      },
      "execution_count": 7,
      "outputs": [
        {
          "output_type": "stream",
          "name": "stdout",
          "text": [
            "List Is Empty\n"
          ]
        }
      ]
    },
    {
      "cell_type": "markdown",
      "source": [
        "**18. How to concatenate two lists?**"
      ],
      "metadata": {
        "id": "_MPyoui8vKCo"
      }
    },
    {
      "cell_type": "code",
      "source": [
        "list1=['Suraj','Om','Kiran',[10,20]]\n",
        "list2=[100,300,'Data Scientist','ML','NLP']\n",
        "\n",
        "print('Adding two list:\\n {}'.format(list1+list2))"
      ],
      "metadata": {
        "colab": {
          "base_uri": "https://localhost:8080/"
        },
        "id": "kdT_9jDKvF9L",
        "outputId": "f9327a6f-c3bd-413c-e803-1558f297d761"
      },
      "execution_count": 6,
      "outputs": [
        {
          "output_type": "stream",
          "name": "stdout",
          "text": [
            "Adding two list:\n",
            " ['Suraj', 'Om', 'Kiran', [10, 20], 100, 300, 'Data Scientist', 'ML', 'NLP']\n"
          ]
        }
      ]
    },
    {
      "cell_type": "markdown",
      "source": [
        "**19.How to find the occurrences of an element in the python list?**"
      ],
      "metadata": {
        "id": "YC-qIhl0vuDD"
      }
    },
    {
      "cell_type": "code",
      "source": [
        "list1=[100,270,300,160,879,100,100]\n",
        "\n",
        "def fun(n):\n",
        "  count=0\n",
        "  \n",
        "  for i in list1:\n",
        "    \n",
        "    if n==i:\n",
        "      count=count+1\n",
        "  print(' occurrences of an element {} in the list {}'.format(n,count))\n",
        "\n",
        "fun(100)\n",
        "# print(fun(100))"
      ],
      "metadata": {
        "colab": {
          "base_uri": "https://localhost:8080/"
        },
        "id": "x37nkSilvhM5",
        "outputId": "a439fd90-06f3-42bd-ca9b-8b59f078b7b1"
      },
      "execution_count": 5,
      "outputs": [
        {
          "output_type": "stream",
          "name": "stdout",
          "text": [
            " occurrences of an element 100 in the list 3\n"
          ]
        }
      ]
    }
  ]
}