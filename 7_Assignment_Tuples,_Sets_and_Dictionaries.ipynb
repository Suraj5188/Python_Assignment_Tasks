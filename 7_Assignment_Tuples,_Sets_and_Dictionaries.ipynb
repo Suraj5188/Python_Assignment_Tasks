{
  "nbformat": 4,
  "nbformat_minor": 0,
  "metadata": {
    "kernelspec": {
      "display_name": "Python 3",
      "language": "python",
      "name": "python3"
    },
    "language_info": {
      "codemirror_mode": {
        "name": "ipython",
        "version": 3
      },
      "file_extension": ".py",
      "mimetype": "text/x-python",
      "name": "python",
      "nbconvert_exporter": "python",
      "pygments_lexer": "ipython3",
      "version": "3.7.4"
    },
    "colab": {
      "provenance": [],
      "include_colab_link": true
    }
  },
  "cells": [
    {
      "cell_type": "markdown",
      "metadata": {
        "id": "view-in-github",
        "colab_type": "text"
      },
      "source": [
        "<a href=\"https://colab.research.google.com/github/Suraj5188/Python_Assignment_Tasks/blob/main/7_Assignment_Tuples%2C_Sets_and_Dictionaries.ipynb\" target=\"_parent\"><img src=\"https://colab.research.google.com/assets/colab-badge.svg\" alt=\"Open In Colab\"/></a>"
      ]
    },
    {
      "cell_type": "markdown",
      "metadata": {
        "id": "KjPWYK0Rs8By"
      },
      "source": [
        "## <u>Problem 1</u>\n",
        "\n",
        "### Another measure of average\n",
        "\n",
        "* Mode is defined as the value that appears most often in a set of data values. Mode corresponds to the most frequent value.\n",
        "* You are given a list1 of numbers and you need to calculate the mode of this list1"
      ]
    },
    {
      "cell_type": "code",
      "metadata": {
        "id": "34TbaGurs8Bz"
      },
      "source": [
        "# A list1 containing average daily temperature over 10 days\n",
        "temperatures = [34, 40, 29, 33, 42, 40, 39, 34, 34,33 ]"
      ],
      "execution_count": 1,
      "outputs": []
    },
    {
      "cell_type": "code",
      "metadata": {
        "id": "N1Yhpkiws8B3"
      },
      "source": [
        "# Step 1 : Find the unique set of values. Store this in a list1\n",
        "unique_temperatures = set(temperatures)\n",
        "\n",
        "list1=list(unique_temperatures)"
      ],
      "execution_count": 2,
      "outputs": []
    },
    {
      "cell_type": "code",
      "metadata": {
        "id": "KpMdlB5Fs8B8",
        "colab": {
          "base_uri": "https://localhost:8080/"
        },
        "outputId": "8c96f6c7-83e8-40bb-d02d-8ad46197929d"
      },
      "source": [
        "# Print the unique temperature list1\n",
        "\n",
        "print(list1)"
      ],
      "execution_count": 3,
      "outputs": [
        {
          "output_type": "stream",
          "name": "stdout",
          "text": [
            "[33, 34, 39, 40, 42, 29]\n"
          ]
        }
      ]
    },
    {
      "cell_type": "code",
      "metadata": {
        "id": "J7CyJi_Ls8B_",
        "colab": {
          "base_uri": "https://localhost:8080/"
        },
        "outputId": "c7b2fd5b-5cae-427b-cce5-3a2406dd3687"
      },
      "source": [
        "# Step 2 : Create an empty dictionary which will contain the unique temperatures as keys and their counts in the original temperatures list1 as values\n",
        "temp_dict = {}\n",
        "\n",
        "# Set the values for each key separately\n",
        "# First key\n",
        "temp_dict.update({list1[0]:temperatures.count(list1[0])})\n",
        "\n",
        "# Second key\n",
        "temp_dict.update({list1[1]:temperatures.count(list1[1])})\n",
        "\n",
        "# Third key\n",
        "temp_dict.update({list1[2]:temperatures.count(list1[2])})\n",
        "\n",
        "# Fourth key\n",
        "temp_dict.update({list1[3]:temperatures.count(list1[3])})\n",
        "\n",
        "# Fifth key\n",
        "temp_dict.update({list1[4]:temperatures.count(list1[4])})\n",
        "\n",
        "# Sixth key\n",
        "temp_dict.update({list1[5]:temperatures.count(list1[5])})\n",
        "\n",
        "print(temp_dict)"
      ],
      "execution_count": 11,
      "outputs": [
        {
          "output_type": "stream",
          "name": "stdout",
          "text": [
            "{33: 2, 34: 3, 39: 1, 40: 2, 42: 1, 29: 1}\n"
          ]
        }
      ]
    },
    {
      "cell_type": "code",
      "metadata": {
        "id": "4-ZxbmMxtWfQ",
        "colab": {
          "base_uri": "https://localhost:8080/"
        },
        "outputId": "d39ca648-ce3e-4baa-c3c1-a9a8f32646ad"
      },
      "source": [
        "# Step 3: Store the dictionary values in a list\n",
        "temp_dict_frequencies = list(temp_dict.values())\n",
        "\n",
        "# Print the list1 of dictionary values\n",
        "print(temp_dict_frequencies)\n",
        "\n",
        "# Find the index of the most frequent temperature value\n",
        "maximum=max(temp_dict_frequencies)\n",
        "\n",
        "most_frequent_temp_index = temp_dict_frequencies.count(maximum)\n",
        "\n",
        "# Print the index\n",
        "most_frequent_temp_index"
      ],
      "execution_count": 17,
      "outputs": [
        {
          "output_type": "stream",
          "name": "stdout",
          "text": [
            "[2, 3, 1, 2, 1, 1]\n"
          ]
        },
        {
          "output_type": "execute_result",
          "data": {
            "text/plain": [
              "1"
            ]
          },
          "metadata": {},
          "execution_count": 17
        }
      ]
    },
    {
      "cell_type": "code",
      "metadata": {
        "id": "riu9mZhcwBY6",
        "colab": {
          "base_uri": "https://localhost:8080/"
        },
        "outputId": "39ed2559-c733-450b-9f4b-e43291beec47"
      },
      "source": [
        "# Step 4 : Create the list of dictionary keys\n",
        "temp_dict_keys = list(temp_dict.keys())\n",
        "\n",
        "# Print the list1 of dictionary keys\n",
        "print(temp_dict_keys)\n",
        "\n",
        "# Calculate the mode temperature\n",
        "mode_temp = temp_dict_keys[most_frequent_temp_index]\n",
        "\n",
        "print(mode_temp)"
      ],
      "execution_count": 21,
      "outputs": [
        {
          "output_type": "stream",
          "name": "stdout",
          "text": [
            "[33, 34, 39, 40, 42, 29]\n",
            "34\n"
          ]
        }
      ]
    },
    {
      "cell_type": "markdown",
      "metadata": {
        "id": "5qd8g8UUs8CM"
      },
      "source": [
        "## <u>Problem 2 </u>\n",
        "\n",
        "### Challenging the immutability of tuples\n",
        "\n",
        "You are given a list\n",
        " of tuples. You need to replace the last element of the last tuple"
      ]
    },
    {
      "cell_type": "code",
      "metadata": {
        "id": "FBJy9Sq_s8CN"
      },
      "source": [
        "# Input list of tuples\n",
        "\n",
        "list1_of_tuples = [(10,20,30),(30,40,50),(50,60,70)]\n",
        "\n",
        "\n",
        "# Expected output : Replace the last element 70 with 100\n",
        "# output_list1 = [(10,20,30),(30,40,50),(50,60,100)]"
      ],
      "execution_count": 22,
      "outputs": []
    },
    {
      "cell_type": "code",
      "metadata": {
        "id": "UNtYax1as8CR",
        "colab": {
          "base_uri": "https://localhost:8080/"
        },
        "outputId": "ecb4d9e4-60ae-4832-eed3-67750f93468e"
      },
      "source": [
        "# Your code here \n",
        "\n",
        "list1=list1_of_tuples[:-1]+[list1_of_tuples[2][:-1]+(100,)]\n",
        "\n",
        "# Print the output list1\n",
        "print(list1)"
      ],
      "execution_count": 28,
      "outputs": [
        {
          "output_type": "stream",
          "name": "stdout",
          "text": [
            "[(10, 20, 30), (30, 40, 50), (50, 60, 100)]\n"
          ]
        }
      ]
    },
    {
      "cell_type": "markdown",
      "metadata": {
        "id": "ejRCi-vTs8CU"
      },
      "source": [
        "## <u> Problem 3 </u>\n",
        "\n",
        "Natural Language Processing or NLP is one of the most promising fields in Machine Learning. Most of the times in NLP we deal with the textual data (a bunch of strings). Sometimes when we are processing the text, it is a common practice to get rid of some set of stop words from our original text. By default stop words are very common words used in English language such as and, or, punctuations etc.\n",
        "\n",
        "In this exercise, you are provided with a default set of stop words and you need to add some extra set of custom words."
      ]
    },
    {
      "cell_type": "code",
      "metadata": {
        "id": "C5olNuDGs8CU",
        "colab": {
          "base_uri": "https://localhost:8080/"
        },
        "outputId": "e489cda3-0320-4589-8106-8f2d2d9813bc"
      },
      "source": [
        "# A sample sentence \n",
        "\n",
        "sentence = 'Hello, good morning folks! Today we will announce the half yearly performance results of the company. Due to the ongoing COVID-19 pandemic, our profits have declined by 60% as compared to the last half yearly results'\n",
        "\n",
        "# Print your sentence\n",
        "print(sentence)"
      ],
      "execution_count": 29,
      "outputs": [
        {
          "output_type": "stream",
          "name": "stdout",
          "text": [
            "Hello, good morning folks! Today we will announce the half yearly performance results of the company. Due to the ongoing COVID-19 pandemic, our profits have declined by 60% as compared to the last half yearly results\n"
          ]
        }
      ]
    },
    {
      "cell_type": "code",
      "metadata": {
        "id": "B4afm8gCs8CY"
      },
      "source": [
        "# Default set of stop words \n",
        "stop_words = {\"i\", \"me\", \"my\", \"myself\", \"we\", \"our\", \"ours\", \"ourselves\", \"you\", \"your\", \"yours\", \"yourself\", \n",
        "              \"yourselves\", \"he\", \"him\", \"his\", \"himself\", \"she\", \"her\", \"hers\", \"herself\", \"it\", \"its\", \"itself\",\n",
        "              \"they\", \"them\", \"their\", \"theirs\", \"themselves\", \"what\", \"which\", \"who\", \"whom\", \"this\", \"that\",\n",
        "              \"these\", \"those\", \"am\", \"is\", \"are\", \"was\", \"were\", \"be\", \"been\", \"being\", \"have\", \"has\", \"had\",\n",
        "              \"having\", \"do\", \"does\", \"did\", \"doing\", \"a\", \"an\", \"the\", \"and\", \"but\", \"if\", \"or\", \"because\",\n",
        "              \"as\", \"until\", \"while\", \"of\", \"at\", \"by\", \"for\", \"with\", \"about\", \"against\", \"between\", \"into\",\n",
        "              \"through\", \"during\", \"before\", \"after\", \"above\", \"below\", \"to\", \"from\", \"up\", \"down\", \"in\", \"out\", \n",
        "              \"on\", \"off\", \"over\", \"under\", \"again\", \"further\", \"then\", \"once\", \"here\", \"there\", \"when\", \"where\",\n",
        "              \"why\", \"how\", \"all\", \"any\", \"both\", \"each\", \"few\", \"more\", \"most\", \"other\", \"some\", \"such\", \"no\",\n",
        "              \"nor\", \"not\", \"only\", \"own\", \"same\", \"so\", \"than\", \"too\", \"very\", \"s\", \"t\", \"can\", \"will\", \"just\",\n",
        "              \"don\", \"should\", \"now\"}\n"
      ],
      "execution_count": 30,
      "outputs": []
    },
    {
      "cell_type": "code",
      "metadata": {
        "id": "evgHHnRks8Cc",
        "colab": {
          "base_uri": "https://localhost:8080/"
        },
        "outputId": "0fa24f6f-e24f-4bb2-cc43-e72f968e7580"
      },
      "source": [
        "# Update the set of stop words by adding the custom stop words\n",
        "custom_stop_words = [\"hello\",\"good\",\"morning\",\"half\",\"yearly\"]\n",
        "\n",
        "# Your code here\n",
        "stop_words.update(sentence)\n",
        "\n",
        "# Print the updated stop words\n",
        "print(stop_words)"
      ],
      "execution_count": 33,
      "outputs": [
        {
          "output_type": "stream",
          "name": "stdout",
          "text": [
            "{'now', 'don', 'ours', 'into', 'off', 'some', 'there', 'r', 'can', 'our', 'T', 'when', 'o', 'v', 'those', 'at', 'her', '6', 'i', 'H', 'or', 'you', 'with', 'its', ' ', 'during', 'I', 'few', 'same', '0', 'yours', 'me', 'him', 'but', 'they', 'such', 'itself', '%', 'most', 'V', 'having', 'am', 'have', 'n', 'it', 'both', 'too', 'this', 'do', 'did', 'between', 'under', 'theirs', 'm', 'does', 'more', 'just', 'd', 'is', 'on', 'himself', 'had', 'of', 'because', 'as', 'were', 'e', 'if', 'myself', 'a', 'while', 'up', 'u', 'further', 'through', 'she', 'against', 'h', 'how', 'yourself', 's', 'was', 'from', 'out', 'been', 'w', 'and', 't', 'only', 'will', 'which', 'p', 'your', 'k', 'ourselves', ',', 'g', 'the', 'what', 'herself', 'by', 'D', 'whom', 'he', 'their', 'y', 'we', 'doing', 'are', 'then', 'f', 'down', 'b', 'not', 'c', 'until', 'why', 'own', 'before', 'below', 'all', 'each', 'in', 'where', 'any', 'than', '.', 'has', 'my', '!', 'O', 'his', 'nor', 'should', 'them', 'to', 'no', '9', 'an', 'C', 'these', 'after', 'other', 'for', 'once', '1', 'themselves', 'being', 'over', '-', 'again', 'hers', 'about', 'above', 'who', 'be', 'yourselves', 'very', 'that', 'l', 'so', 'here'}\n"
          ]
        }
      ]
    },
    {
      "cell_type": "code",
      "metadata": {
        "id": "1QbZrotrtIE3",
        "colab": {
          "base_uri": "https://localhost:8080/"
        },
        "outputId": "fed3eb1a-329e-4af5-a077-431cd599d231"
      },
      "source": [
        "# Do the same task another way. Keep in mind to use the original set of stop_words for this piece of code\n",
        "\n",
        "another_way_stop_words=list(stop_words) + custom_stop_words\n",
        "\n",
        "\n",
        "# Print the updated stop words\n",
        "print(another_way_stop_words)"
      ],
      "execution_count": 34,
      "outputs": [
        {
          "output_type": "stream",
          "name": "stdout",
          "text": [
            "['now', 'don', 'ours', 'into', 'off', 'some', 'there', 'r', 'can', 'our', 'T', 'when', 'o', 'v', 'those', 'at', 'her', '6', 'i', 'H', 'or', 'you', 'with', 'its', ' ', 'during', 'I', 'few', 'same', '0', 'yours', 'me', 'him', 'but', 'they', 'such', 'itself', '%', 'most', 'V', 'having', 'am', 'have', 'n', 'it', 'both', 'too', 'this', 'do', 'did', 'between', 'under', 'theirs', 'm', 'does', 'more', 'just', 'd', 'is', 'on', 'himself', 'had', 'of', 'because', 'as', 'were', 'e', 'if', 'myself', 'a', 'while', 'up', 'u', 'further', 'through', 'she', 'against', 'h', 'how', 'yourself', 's', 'was', 'from', 'out', 'been', 'w', 'and', 't', 'only', 'will', 'which', 'p', 'your', 'k', 'ourselves', ',', 'g', 'the', 'what', 'herself', 'by', 'D', 'whom', 'he', 'their', 'y', 'we', 'doing', 'are', 'then', 'f', 'down', 'b', 'not', 'c', 'until', 'why', 'own', 'before', 'below', 'all', 'each', 'in', 'where', 'any', 'than', '.', 'has', 'my', '!', 'O', 'his', 'nor', 'should', 'them', 'to', 'no', '9', 'an', 'C', 'these', 'after', 'other', 'for', 'once', '1', 'themselves', 'being', 'over', '-', 'again', 'hers', 'about', 'above', 'who', 'be', 'yourselves', 'very', 'that', 'l', 'so', 'here', 'hello', 'good', 'morning', 'half', 'yearly']\n"
          ]
        }
      ]
    },
    {
      "cell_type": "markdown",
      "metadata": {
        "id": "P1rOYC8Is8Cf"
      },
      "source": [
        "## <u>Problem 4</u>\n",
        "\n",
        " Write a Python script to check whether a given key already exists in a dictionary. If it does, drop that key from the dictionary. If it does not, add that key and corresponding value to the dictionary"
      ]
    },
    {
      "cell_type": "code",
      "metadata": {
        "id": "ySeGyCtCs8Cg"
      },
      "source": [
        "# Your dictionary\n",
        "employee_dict = {'Name':'Sanket','Skills':['Python','Machine Learning','Deep Learning'],'Band':6.0,\n",
        "                 'Promotion Year':[2016,2018,2020]}"
      ],
      "execution_count": 35,
      "outputs": []
    },
    {
      "cell_type": "code",
      "metadata": {
        "id": "MI7mOHaqs8Cj"
      },
      "source": [
        "# Check if the key 'Employee_ID' is present in the dictionary. Hint : use a boolean variable to store this value\n",
        "'Employee_ID' in employee_dict\n",
        "\n",
        "# If not present add this key to this dictionary and the corresponding value to be 4503233\n",
        "employee_dict.update({'Employee_ID':4503233})"
      ],
      "execution_count": 37,
      "outputs": []
    },
    {
      "cell_type": "code",
      "metadata": {
        "id": "ARPbZfY8s8Co",
        "colab": {
          "base_uri": "https://localhost:8080/"
        },
        "outputId": "2bccffd7-249d-4964-fa00-ff0acc50880f"
      },
      "source": [
        "# Check if the key 'Band' is present in the dictionary.\n",
        "'Band' in employee_dict\n",
        "\n",
        "# If present, drop this key from the dictionary\n",
        "employee_dict.pop('Band')"
      ],
      "execution_count": 39,
      "outputs": [
        {
          "output_type": "execute_result",
          "data": {
            "text/plain": [
              "6.0"
            ]
          },
          "metadata": {},
          "execution_count": 39
        }
      ]
    },
    {
      "cell_type": "code",
      "metadata": {
        "id": "lUDbbyXmulzh",
        "colab": {
          "base_uri": "https://localhost:8080/"
        },
        "outputId": "7126cbaf-756c-4b3a-cc65-bdc9ba639c01"
      },
      "source": [
        "# Print the updated dictionary\n",
        "\n",
        "print(employee_dict)"
      ],
      "execution_count": 43,
      "outputs": [
        {
          "output_type": "stream",
          "name": "stdout",
          "text": [
            "{'Name': 'Sanket', 'Skills': ['Python', 'Machine Learning', 'Deep Learning'], 'Promotion Year': [2016, 2018, 2020], 'Employee_ID': 4503233}\n"
          ]
        }
      ]
    },
    {
      "cell_type": "code",
      "source": [],
      "metadata": {
        "id": "p5UdwDk_aaS-"
      },
      "execution_count": null,
      "outputs": []
    }
  ]
}